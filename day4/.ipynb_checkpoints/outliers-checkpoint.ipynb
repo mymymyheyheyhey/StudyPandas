{
 "cells": [
  {
   "cell_type": "code",
   "execution_count": null,
   "id": "3abf828a",
   "metadata": {},
   "outputs": [],
   "source": [
    "def find_outlier(df):\n",
    "    print(\"이상치를 체크합니다.\")\n",
    "    print(\"조회하려는 컬럼의 이름을 입력하세요.\")\n",
    "    colname = input()\n",
    "    q1, q3 = np.percentile(df[colname], [25, 75])\n",
    "    iqr = q3 - q1\n",
    "    ceil = q3 + 1.5 * iqr\n",
    "    floor = q1 - 1.5 * iqr\n",
    "    check = df[(df[colname] > ceil)\n",
    "             | (df[colname] < floor)]\n",
    "    return(check)"
   ]
  }
 ],
 "metadata": {
  "kernelspec": {
   "display_name": "Python 3 (ipykernel)",
   "language": "python",
   "name": "python3"
  },
  "language_info": {
   "codemirror_mode": {
    "name": "ipython",
    "version": 3
   },
   "file_extension": ".py",
   "mimetype": "text/x-python",
   "name": "python",
   "nbconvert_exporter": "python",
   "pygments_lexer": "ipython3",
   "version": "3.9.7"
  }
 },
 "nbformat": 4,
 "nbformat_minor": 5
}
