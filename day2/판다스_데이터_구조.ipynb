{
 "cells": [
  {
   "cell_type": "markdown",
   "id": "cc861246",
   "metadata": {},
   "source": [
    "### 판다스 데이터 구조"
   ]
  },
  {
   "cell_type": "markdown",
   "id": "689e8e6e",
   "metadata": {},
   "source": [
    "### 시리즈"
   ]
  },
  {
   "cell_type": "code",
   "execution_count": 3,
   "id": "2950e53a",
   "metadata": {},
   "outputs": [],
   "source": [
    "import pandas as pd"
   ]
  },
  {
   "cell_type": "code",
   "execution_count": 27,
   "id": "80b90ceb",
   "metadata": {},
   "outputs": [],
   "source": [
    "sd1 = pd.Series(['Dog', 'Cat', 'Tiger', 'Lion', 'Monkey']\n",
    "               , index = [1, 2, 3, 4, 5])"
   ]
  },
  {
   "cell_type": "code",
   "execution_count": 28,
   "id": "c74e03fb",
   "metadata": {},
   "outputs": [
    {
     "data": {
      "text/plain": [
       "1       Dog\n",
       "2       Cat\n",
       "3     Tiger\n",
       "4      Lion\n",
       "5    Monkey\n",
       "dtype: object"
      ]
     },
     "execution_count": 28,
     "metadata": {},
     "output_type": "execute_result"
    }
   ],
   "source": [
    "sd1"
   ]
  },
  {
   "cell_type": "code",
   "execution_count": 33,
   "id": "90f060af",
   "metadata": {},
   "outputs": [],
   "source": [
    "dict_data = {\"a\" : 1, \"b\" : 2, \"c\" : 3}"
   ]
  },
  {
   "cell_type": "code",
   "execution_count": 34,
   "id": "080dcff6",
   "metadata": {},
   "outputs": [
    {
     "data": {
      "text/plain": [
       "{'a': 1, 'b': 2, 'c': 3}"
      ]
     },
     "execution_count": 34,
     "metadata": {},
     "output_type": "execute_result"
    }
   ],
   "source": [
    "dict_data"
   ]
  },
  {
   "cell_type": "code",
   "execution_count": 35,
   "id": "ed7f01e5",
   "metadata": {},
   "outputs": [
    {
     "data": {
      "text/plain": [
       "dict"
      ]
     },
     "execution_count": 35,
     "metadata": {},
     "output_type": "execute_result"
    }
   ],
   "source": [
    "type(dict_data)"
   ]
  },
  {
   "cell_type": "code",
   "execution_count": 36,
   "id": "16cfd5b6",
   "metadata": {},
   "outputs": [],
   "source": [
    "sd2 = pd.Series(dict_data)"
   ]
  },
  {
   "cell_type": "code",
   "execution_count": 37,
   "id": "f687f3d6",
   "metadata": {},
   "outputs": [
    {
     "data": {
      "text/plain": [
       "a    1\n",
       "b    2\n",
       "c    3\n",
       "dtype: int64"
      ]
     },
     "execution_count": 37,
     "metadata": {},
     "output_type": "execute_result"
    }
   ],
   "source": [
    "sd2"
   ]
  },
  {
   "cell_type": "code",
   "execution_count": 41,
   "id": "ceede637",
   "metadata": {},
   "outputs": [
    {
     "data": {
      "text/plain": [
       "pandas.core.series.Series"
      ]
     },
     "execution_count": 41,
     "metadata": {},
     "output_type": "execute_result"
    }
   ],
   "source": [
    "type(sd1)\n",
    "type(sd2)"
   ]
  },
  {
   "cell_type": "markdown",
   "id": "9b3e397f",
   "metadata": {},
   "source": [
    "### 리스트를 시리즈로 변환"
   ]
  },
  {
   "cell_type": "code",
   "execution_count": 42,
   "id": "9e7cc5ad",
   "metadata": {},
   "outputs": [],
   "source": [
    "list_data = ['Dog', 'Cat', 'Tiger']"
   ]
  },
  {
   "cell_type": "code",
   "execution_count": 45,
   "id": "b5599cf3",
   "metadata": {},
   "outputs": [
    {
     "data": {
      "text/plain": [
       "0      Dog\n",
       "1      Cat\n",
       "2    Tiger\n",
       "dtype: object"
      ]
     },
     "execution_count": 45,
     "metadata": {},
     "output_type": "execute_result"
    }
   ],
   "source": [
    "sd3 = pd.Series(list_data)\n",
    "sd3"
   ]
  },
  {
   "cell_type": "code",
   "execution_count": 46,
   "id": "b49254c9",
   "metadata": {},
   "outputs": [
    {
     "data": {
      "text/plain": [
       "pandas.core.series.Series"
      ]
     },
     "execution_count": 46,
     "metadata": {},
     "output_type": "execute_result"
    }
   ],
   "source": [
    "type(sd3)"
   ]
  },
  {
   "cell_type": "markdown",
   "id": "45d734b6",
   "metadata": {},
   "source": [
    "### 튜플을 시리즈로 변환"
   ]
  },
  {
   "cell_type": "code",
   "execution_count": 49,
   "id": "9171787b",
   "metadata": {},
   "outputs": [
    {
     "data": {
      "text/plain": [
       "('이순신', '1991-03-15', '남자')"
      ]
     },
     "execution_count": 49,
     "metadata": {},
     "output_type": "execute_result"
    }
   ],
   "source": [
    "tup1 = ('이순신', '1991-03-15', '남자')\n",
    "tup1"
   ]
  },
  {
   "cell_type": "code",
   "execution_count": 50,
   "id": "a7577bae",
   "metadata": {},
   "outputs": [
    {
     "data": {
      "text/plain": [
       "tuple"
      ]
     },
     "execution_count": 50,
     "metadata": {},
     "output_type": "execute_result"
    }
   ],
   "source": [
    "type(tup1)"
   ]
  },
  {
   "cell_type": "code",
   "execution_count": 52,
   "id": "4476a036",
   "metadata": {},
   "outputs": [
    {
     "data": {
      "text/plain": [
       "이름             이순신\n",
       "생년월일    1991-03-15\n",
       "성별              남자\n",
       "dtype: object"
      ]
     },
     "execution_count": 52,
     "metadata": {},
     "output_type": "execute_result"
    }
   ],
   "source": [
    "user_index = ['이름', '생년월일', '성별']\n",
    "sd4 = pd.Series(tup1\n",
    "               , index = user_index)\n",
    "sd4"
   ]
  },
  {
   "cell_type": "markdown",
   "id": "adea73c1",
   "metadata": {},
   "source": [
    "### 데이터 프레임 만들기"
   ]
  },
  {
   "cell_type": "markdown",
   "id": "806c5a48",
   "metadata": {},
   "source": [
    "### 딕셔너리를 데이터 프레임으로 변환"
   ]
  },
  {
   "cell_type": "code",
   "execution_count": 60,
   "id": "954b3c91",
   "metadata": {},
   "outputs": [
    {
     "data": {
      "text/plain": [
       "{'동물': ['Dog', 'Cat', 'Tiger', 'Lion', 'Monkey'], '나이': [7, 9, 2, 3, 1]}"
      ]
     },
     "execution_count": 60,
     "metadata": {},
     "output_type": "execute_result"
    }
   ],
   "source": [
    "animals = {\"동물\" : ['Dog', 'Cat', 'Tiger', 'Lion', 'Monkey']\n",
    "           , \"나이\" : [7, 9, 2, 3, 1]}\n",
    "animals"
   ]
  },
  {
   "cell_type": "code",
   "execution_count": 61,
   "id": "da640b95",
   "metadata": {},
   "outputs": [
    {
     "data": {
      "text/plain": [
       "dict"
      ]
     },
     "execution_count": 61,
     "metadata": {},
     "output_type": "execute_result"
    }
   ],
   "source": [
    "type(animals)"
   ]
  },
  {
   "cell_type": "code",
   "execution_count": 64,
   "id": "7c469c91",
   "metadata": {},
   "outputs": [
    {
     "data": {
      "text/html": [
       "<div>\n",
       "<style scoped>\n",
       "    .dataframe tbody tr th:only-of-type {\n",
       "        vertical-align: middle;\n",
       "    }\n",
       "\n",
       "    .dataframe tbody tr th {\n",
       "        vertical-align: top;\n",
       "    }\n",
       "\n",
       "    .dataframe thead th {\n",
       "        text-align: right;\n",
       "    }\n",
       "</style>\n",
       "<table border=\"1\" class=\"dataframe\">\n",
       "  <thead>\n",
       "    <tr style=\"text-align: right;\">\n",
       "      <th></th>\n",
       "      <th>동물</th>\n",
       "      <th>나이</th>\n",
       "    </tr>\n",
       "  </thead>\n",
       "  <tbody>\n",
       "    <tr>\n",
       "      <th>0</th>\n",
       "      <td>Dog</td>\n",
       "      <td>7</td>\n",
       "    </tr>\n",
       "    <tr>\n",
       "      <th>1</th>\n",
       "      <td>Cat</td>\n",
       "      <td>9</td>\n",
       "    </tr>\n",
       "    <tr>\n",
       "      <th>2</th>\n",
       "      <td>Tiger</td>\n",
       "      <td>2</td>\n",
       "    </tr>\n",
       "    <tr>\n",
       "      <th>3</th>\n",
       "      <td>Lion</td>\n",
       "      <td>3</td>\n",
       "    </tr>\n",
       "    <tr>\n",
       "      <th>4</th>\n",
       "      <td>Monkey</td>\n",
       "      <td>1</td>\n",
       "    </tr>\n",
       "  </tbody>\n",
       "</table>\n",
       "</div>"
      ],
      "text/plain": [
       "       동물  나이\n",
       "0     Dog   7\n",
       "1     Cat   9\n",
       "2   Tiger   2\n",
       "3    Lion   3\n",
       "4  Monkey   1"
      ]
     },
     "execution_count": 64,
     "metadata": {},
     "output_type": "execute_result"
    }
   ],
   "source": [
    "animals_df = pd.DataFrame(animals)\n",
    "animals_df"
   ]
  },
  {
   "cell_type": "code",
   "execution_count": 65,
   "id": "01b296f5",
   "metadata": {},
   "outputs": [
    {
     "data": {
      "text/plain": [
       "pandas.core.frame.DataFrame"
      ]
     },
     "execution_count": 65,
     "metadata": {},
     "output_type": "execute_result"
    }
   ],
   "source": [
    "type(animals_df)"
   ]
  },
  {
   "cell_type": "markdown",
   "id": "2bc4f090",
   "metadata": {},
   "source": [
    "### 리스트를 데이터프레임으로"
   ]
  },
  {
   "cell_type": "code",
   "execution_count": 66,
   "id": "d9b41a36",
   "metadata": {},
   "outputs": [
    {
     "data": {
      "text/plain": [
       "[['Dog', 7], ['Cat', 9], ['Tiger', 2], ['Lion', 3], ['Monkey', 1]]"
      ]
     },
     "execution_count": 66,
     "metadata": {},
     "output_type": "execute_result"
    }
   ],
   "source": [
    "list_data = [  ['Dog', 7]\n",
    "             , ['Cat', 9]\n",
    "             , ['Tiger', 2]\n",
    "             , ['Lion', 3]\n",
    "             , ['Monkey', 1] ]\n",
    "list_data"
   ]
  },
  {
   "cell_type": "code",
   "execution_count": 80,
   "id": "90b2f0f4",
   "metadata": {},
   "outputs": [
    {
     "data": {
      "text/html": [
       "<div>\n",
       "<style scoped>\n",
       "    .dataframe tbody tr th:only-of-type {\n",
       "        vertical-align: middle;\n",
       "    }\n",
       "\n",
       "    .dataframe tbody tr th {\n",
       "        vertical-align: top;\n",
       "    }\n",
       "\n",
       "    .dataframe thead th {\n",
       "        text-align: right;\n",
       "    }\n",
       "</style>\n",
       "<table border=\"1\" class=\"dataframe\">\n",
       "  <thead>\n",
       "    <tr style=\"text-align: right;\">\n",
       "      <th></th>\n",
       "      <th>동물</th>\n",
       "      <th>나이</th>\n",
       "    </tr>\n",
       "  </thead>\n",
       "  <tbody>\n",
       "    <tr>\n",
       "      <th>0</th>\n",
       "      <td>Dog</td>\n",
       "      <td>7</td>\n",
       "    </tr>\n",
       "    <tr>\n",
       "      <th>1</th>\n",
       "      <td>Cat</td>\n",
       "      <td>9</td>\n",
       "    </tr>\n",
       "    <tr>\n",
       "      <th>2</th>\n",
       "      <td>Tiger</td>\n",
       "      <td>2</td>\n",
       "    </tr>\n",
       "    <tr>\n",
       "      <th>3</th>\n",
       "      <td>Lion</td>\n",
       "      <td>3</td>\n",
       "    </tr>\n",
       "    <tr>\n",
       "      <th>4</th>\n",
       "      <td>Monkey</td>\n",
       "      <td>1</td>\n",
       "    </tr>\n",
       "  </tbody>\n",
       "</table>\n",
       "</div>"
      ],
      "text/plain": [
       "       동물  나이\n",
       "0     Dog   7\n",
       "1     Cat   9\n",
       "2   Tiger   2\n",
       "3    Lion   3\n",
       "4  Monkey   1"
      ]
     },
     "execution_count": 80,
     "metadata": {},
     "output_type": "execute_result"
    }
   ],
   "source": [
    "colnames = [\"동물\", \"나이\"]\n",
    "df2 = pd.DataFrame(list_data\n",
    "                  , columns = colnames)\n",
    "df2"
   ]
  },
  {
   "cell_type": "code",
   "execution_count": 81,
   "id": "f9cd530b",
   "metadata": {},
   "outputs": [
    {
     "data": {
      "text/plain": [
       "pandas.core.frame.DataFrame"
      ]
     },
     "execution_count": 81,
     "metadata": {},
     "output_type": "execute_result"
    }
   ],
   "source": [
    "type(df2)"
   ]
  },
  {
   "cell_type": "code",
   "execution_count": 84,
   "id": "2bba2b0f",
   "metadata": {},
   "outputs": [
    {
     "data": {
      "text/plain": [
       "동물    object\n",
       "나이     int64\n",
       "dtype: object"
      ]
     },
     "execution_count": 84,
     "metadata": {},
     "output_type": "execute_result"
    }
   ],
   "source": [
    "df2.dtypes # 함수가 아니다. 괄호가 없다. 속성이다. 속성은 괄호가 붙지 않는다."
   ]
  },
  {
   "cell_type": "code",
   "execution_count": null,
   "id": "1ee0860b",
   "metadata": {},
   "outputs": [],
   "source": []
  },
  {
   "cell_type": "code",
   "execution_count": null,
   "id": "d793d377",
   "metadata": {},
   "outputs": [],
   "source": []
  },
  {
   "cell_type": "markdown",
   "id": "3610d86c",
   "metadata": {},
   "source": [
    "### 빈 데이터 프레임 생성"
   ]
  },
  {
   "cell_type": "code",
   "execution_count": 86,
   "id": "eda7a1ce",
   "metadata": {},
   "outputs": [
    {
     "data": {
      "text/html": [
       "<div>\n",
       "<style scoped>\n",
       "    .dataframe tbody tr th:only-of-type {\n",
       "        vertical-align: middle;\n",
       "    }\n",
       "\n",
       "    .dataframe tbody tr th {\n",
       "        vertical-align: top;\n",
       "    }\n",
       "\n",
       "    .dataframe thead th {\n",
       "        text-align: right;\n",
       "    }\n",
       "</style>\n",
       "<table border=\"1\" class=\"dataframe\">\n",
       "  <thead>\n",
       "    <tr style=\"text-align: right;\">\n",
       "      <th></th>\n",
       "    </tr>\n",
       "  </thead>\n",
       "  <tbody>\n",
       "  </tbody>\n",
       "</table>\n",
       "</div>"
      ],
      "text/plain": [
       "Empty DataFrame\n",
       "Columns: []\n",
       "Index: []"
      ]
     },
     "execution_count": 86,
     "metadata": {},
     "output_type": "execute_result"
    }
   ],
   "source": [
    "df_null = pd.DataFrame()\n",
    "df_null"
   ]
  },
  {
   "cell_type": "code",
   "execution_count": 87,
   "id": "2c25b039",
   "metadata": {},
   "outputs": [
    {
     "data": {
      "text/plain": [
       "pandas.core.frame.DataFrame"
      ]
     },
     "execution_count": 87,
     "metadata": {},
     "output_type": "execute_result"
    }
   ],
   "source": [
    "type(df_null)"
   ]
  },
  {
   "cell_type": "code",
   "execution_count": 89,
   "id": "c1d1e6d0",
   "metadata": {},
   "outputs": [
    {
     "data": {
      "text/html": [
       "<div>\n",
       "<style scoped>\n",
       "    .dataframe tbody tr th:only-of-type {\n",
       "        vertical-align: middle;\n",
       "    }\n",
       "\n",
       "    .dataframe tbody tr th {\n",
       "        vertical-align: top;\n",
       "    }\n",
       "\n",
       "    .dataframe thead th {\n",
       "        text-align: right;\n",
       "    }\n",
       "</style>\n",
       "<table border=\"1\" class=\"dataframe\">\n",
       "  <thead>\n",
       "    <tr style=\"text-align: right;\">\n",
       "      <th></th>\n",
       "      <th>동물</th>\n",
       "    </tr>\n",
       "  </thead>\n",
       "  <tbody>\n",
       "  </tbody>\n",
       "</table>\n",
       "</div>"
      ],
      "text/plain": [
       "Empty DataFrame\n",
       "Columns: [동물]\n",
       "Index: []"
      ]
     },
     "execution_count": 89,
     "metadata": {},
     "output_type": "execute_result"
    }
   ],
   "source": [
    "df_null[\"동물\"] = 'Dog'\n",
    "df_null"
   ]
  },
  {
   "cell_type": "code",
   "execution_count": null,
   "id": "5ac964c6",
   "metadata": {},
   "outputs": [],
   "source": []
  }
 ],
 "metadata": {
  "kernelspec": {
   "display_name": "Python 3 (ipykernel)",
   "language": "python",
   "name": "python3"
  },
  "language_info": {
   "codemirror_mode": {
    "name": "ipython",
    "version": 3
   },
   "file_extension": ".py",
   "mimetype": "text/x-python",
   "name": "python",
   "nbconvert_exporter": "python",
   "pygments_lexer": "ipython3",
   "version": "3.9.7"
  }
 },
 "nbformat": 4,
 "nbformat_minor": 5
}
